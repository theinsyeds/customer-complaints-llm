{
 "cells": [
  {
   "cell_type": "markdown",
   "id": "1ccbced4-ba10-425d-86cb-68aab6fa393e",
   "metadata": {},
   "source": [
    " # 🧠 Customer Complaints Analysis using LangChain + Ollama (Mistral)\n",
    "\n",
    "This notebook analyzes customer feedback emails and identifies:\n",
    "- 📦 The **product category** with the most negative sentiment\n",
    "- 📍 The **store location** with the most negative sentiment\n",
    "\n",
    "We use:\n",
    "- 🧱 LangChain to build the LLM pipeline\n",
    "- 🧠 Mistral model running locally via Ollama\n",
    "- 💻 100% local execution, no paid APIs\n"
   ]
  },
  {
   "cell_type": "markdown",
   "id": "2d8ff23b-7921-4cca-9ef3-ed399da98a5e",
   "metadata": {},
   "source": [
    "---\n",
    "\n",
    "## 🔧 Setup & Installation\n",
    "\n",
    "Before starting, make sure you have:\n",
    "- ✅ Installed required Python libraries\n",
    "- ✅ Started `ollama serve` in a terminal\n",
    "- ✅ Pulled the Mistral model with `ollama pull mistral`\n",
    "\n",
    "Run this in your terminal if needed:\n",
    "\n",
    "```bash\n",
    "pip install langchain langchain-community ollama python-dotenv\n"
   ]
  },
  {
   "cell_type": "code",
   "execution_count": 1,
   "id": "02ae6251-0719-40b2-a374-95b036ad3522",
   "metadata": {},
   "outputs": [],
   "source": [
    "from langchain_core.prompts import PromptTemplate\n",
    "from langchain_core.output_parsers import StrOutputParser\n",
    "from langchain_ollama import OllamaLLM\n"
   ]
  },
  {
   "cell_type": "markdown",
   "id": "e9234dde-59e9-4669-a265-240c828d183c",
   "metadata": {},
   "source": [
    "---\n",
    "\n",
    "## 🧠 Load Local Mistral Model\n",
    "\n",
    "We now load the `mistral` model locally from Ollama.\n",
    "\n",
    "Make sure:\n",
    "- You have run `ollama pull mistral`\n",
    "- You have `ollama serve` running in a separate terminal window\n",
    "\n",
    "---\n"
   ]
  },
  {
   "cell_type": "code",
   "execution_count": 2,
   "id": "ad5531eb-7884-454a-a514-95164f62c0d0",
   "metadata": {},
   "outputs": [],
   "source": [
    "llm = OllamaLLM(model=\"mistral\")\n"
   ]
  },
  {
   "cell_type": "markdown",
   "id": "b6e6357a-a40e-4f67-b992-4d577f45ea9c",
   "metadata": {},
   "source": [
    "---\n",
    "\n",
    "## 📜 Define Prompt and Build LangChain Chain\n",
    "\n",
    "This is the custom prompt we’ll use to extract insights from the emails.  \n",
    "LangChain connects:\n",
    "- The `PromptTemplate` ➡️\n",
    "- To the `Mistral` LLM ➡️\n",
    "- Through the `StrOutputParser`\n",
    "\n",
    "---\n"
   ]
  },
  {
   "cell_type": "code",
   "execution_count": 3,
   "id": "65014679-c01a-471d-8d66-6e68f3bc26cc",
   "metadata": {},
   "outputs": [],
   "source": [
    "prompt_template = PromptTemplate.from_template(\"\"\"\n",
    "You will be given multiple customer complaint and feedback emails.\n",
    "Your task is to identify:\n",
    "1. The product category with the most negative sentiment.\n",
    "2. The store location with the most negative sentiment.\n",
    "\n",
    "Only return a clear and concise answer.\n",
    "\n",
    "Emails:\n",
    "{input}\n",
    "\"\"\")\n",
    "\n",
    "parser = StrOutputParser()\n",
    "\n",
    "chain = prompt_template | llm | parser\n"
   ]
  },
  {
   "cell_type": "markdown",
   "id": "9727791f-664a-4d8c-822a-aa8104a6c081",
   "metadata": {},
   "source": [
    "---\n",
    "\n",
    "## 📨 Input Customer Feedback Emails\n",
    "\n",
    "These emails contain both positive and negative feedback from various cities and product categories.\n",
    "\n",
    "---\n"
   ]
  },
  {
   "cell_type": "code",
   "execution_count": 4,
   "id": "4c4ec81e-8e7e-460b-a639-1d7183d7ffe7",
   "metadata": {},
   "outputs": [],
   "source": [
    "emails = \"\"\"\n",
    "Dear BuyBuy, I just wanted to express how thrilled I am with the blender I purchased from your store in New York last week...\n",
    "\n",
    "To whom it may concern, I am writing to share my frustration regarding the dining table I recently bought from BuyBuy in New York...\n",
    "\n",
    "Hi BuyBuy, I just wanted to thank you for the amazing sneakers I ordered from your store in Dallas...\n",
    "\n",
    "Dear BuyBuy, I am extremely disappointed with the couch I purchased from your New York store...\n",
    "\n",
    "Hello BuyBuy, I wanted to take a moment to let you know how happy I am with the coffee maker I recently bought from your Oakland store...\n",
    "\n",
    "Dear BuyBuy, I am writing to express my dissatisfaction with the bookshelf I ordered from your store when I was in New York last week...\n",
    "\"\"\"\n"
   ]
  },
  {
   "cell_type": "markdown",
   "id": "8cfa4dd3-6859-4712-b7dc-6c20dac592ec",
   "metadata": {},
   "source": [
    "---\n",
    "\n",
    "## 🚀 Run Chain and Get Result\n",
    "\n",
    "Now we invoke the LLM pipeline with our email block.  \n",
    "The model will return:\n",
    "- The product category with the most negative sentiment\n",
    "- The store location with the most negative sentiment\n",
    "\n",
    "---\n"
   ]
  },
  {
   "cell_type": "code",
   "execution_count": 5,
   "id": "0278c112-4a04-4d64-a2fb-711b8954ae83",
   "metadata": {},
   "outputs": [
    {
     "name": "stdout",
     "output_type": "stream",
     "text": [
      " 1. The product category with the most negative sentiment is Furniture (3 out of 7 complaints).\n",
      "2. The store location with the most negative sentiment is New York (4 out of 7 complaints).\n"
     ]
    }
   ],
   "source": [
    "result = chain.invoke({\"input\": emails})\n",
    "print(result)\n"
   ]
  },
  {
   "cell_type": "markdown",
   "id": "84dfd360-369b-4281-a314-8967d3778476",
   "metadata": {},
   "source": [
    "---\n",
    "\n",
    "## ✅ Summary\n",
    "\n",
    "This notebook demonstrates how to:\n",
    "\n",
    "- Build a local LangChain pipeline using Mistral + Ollama\n",
    "- Analyze raw unstructured customer feedback\n",
    "- Extract actionable business insights without using OpenAI\n",
    "\n",
    "🔒 Runs fully locally  \n",
    "🚫 No token limits or paid APIs  \n",
    "🧠 Easy to extend for other use cases like categorization, summarization, tagging, etc.\n",
    "\n",
    "---\n"
   ]
  },
  {
   "cell_type": "code",
   "execution_count": null,
   "id": "5fc9bb00-c459-4150-8210-e5686f62c7d7",
   "metadata": {},
   "outputs": [],
   "source": []
  }
 ],
 "metadata": {
  "kernelspec": {
   "display_name": "Python 3 (ipykernel)",
   "language": "python",
   "name": "python3"
  },
  "language_info": {
   "codemirror_mode": {
    "name": "ipython",
    "version": 3
   },
   "file_extension": ".py",
   "mimetype": "text/x-python",
   "name": "python",
   "nbconvert_exporter": "python",
   "pygments_lexer": "ipython3",
   "version": "3.12.7"
  }
 },
 "nbformat": 4,
 "nbformat_minor": 5
}
